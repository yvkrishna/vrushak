{
  "nbformat": 4,
  "nbformat_minor": 0,
  "metadata": {
    "colab": {
      "name": "Rain.ipynb",
      "provenance": [],
      "collapsed_sections": [],
      "include_colab_link": true
    },
    "kernelspec": {
      "name": "python3",
      "display_name": "Python 3"
    },
    "accelerator": "GPU"
  },
  "cells": [
    {
      "cell_type": "markdown",
      "metadata": {
        "id": "view-in-github",
        "colab_type": "text"
      },
      "source": [
        "<a href=\"https://colab.research.google.com/github/yvkrishna/vrushak/blob/main/Rain.ipynb\" target=\"_parent\"><img src=\"https://colab.research.google.com/assets/colab-badge.svg\" alt=\"Open In Colab\"/></a>"
      ]
    },
    {
      "cell_type": "code",
      "metadata": {
        "id": "RBaaq7LRwXAZ"
      },
      "source": [
        "import sys\r\n",
        "\r\n",
        "# Confirm that we're using Python 3\r\n",
        "assert sys.version_info.major is 3, 'Oops, not running Python 3. Use Runtime > Change runtime type'"
      ],
      "execution_count": null,
      "outputs": []
    },
    {
      "cell_type": "code",
      "metadata": {
        "colab": {
          "base_uri": "https://localhost:8080/"
        },
        "id": "dzLKpmZICaWN",
        "outputId": "da235405-a31d-4599-bf3e-eb467226652f"
      },
      "source": [
        "# TensorFlow and tf.keras\n",
        "print(\"Installing dependencies for Colab environment\")\n",
        "!pip install -Uq grpcio==1.32.0\n",
        "\n",
        "import tensorflow as tf\n",
        "from tensorflow import keras\n",
        "\n",
        "# Helper libraries\n",
        "import numpy as np\n",
        "import pandas as pd\n",
        "import matplotlib.pyplot as plt\n",
        "import os\n",
        "import subprocess\n",
        "\n",
        "print('TensorFlow version: {}'.format(tf.__version__))"
      ],
      "execution_count": null,
      "outputs": [
        {
          "output_type": "stream",
          "text": [
            "Installing dependencies for Colab environment\n",
            "TensorFlow version: 2.4.0\n"
          ],
          "name": "stdout"
        }
      ]
    },
    {
      "cell_type": "code",
      "metadata": {
        "colab": {
          "base_uri": "https://localhost:8080/"
        },
        "id": "ZS5H5-aowlhR",
        "outputId": "adb0ab12-3fea-4ff5-c9ad-773e0f69bfc0"
      },
      "source": [
        "'''\r\n",
        "    cloning the repo COVID-19 from github\r\n",
        "'''\r\n",
        "!git clone https://github.com/Naveena01/Rainfall_prediction.git"
      ],
      "execution_count": null,
      "outputs": [
        {
          "output_type": "stream",
          "text": [
            "Cloning into 'Rainfall_prediction'...\n",
            "remote: Enumerating objects: 14, done.\u001b[K\n",
            "remote: Counting objects: 100% (14/14), done.\u001b[K\n",
            "remote: Compressing objects: 100% (12/12), done.\u001b[K\n",
            "remote: Total 14 (delta 0), reused 0 (delta 0), pack-reused 0\u001b[K\n",
            "Unpacking objects: 100% (14/14), done.\n"
          ],
          "name": "stdout"
        }
      ]
    },
    {
      "cell_type": "code",
      "metadata": {
        "id": "8LYjzQGTye62"
      },
      "source": [
        " weather=pd.read_csv('/content/Rainfall_prediction/weatherHistory_updated.csv')\r\n"
      ],
      "execution_count": null,
      "outputs": []
    },
    {
      "cell_type": "code",
      "metadata": {
        "colab": {
          "base_uri": "https://localhost:8080/",
          "height": 195
        },
        "id": "hApTPHQRzzhf",
        "outputId": "0919818b-52cc-4c74-abe1-27f8f53efe90"
      },
      "source": [
        "weather.head()"
      ],
      "execution_count": null,
      "outputs": [
        {
          "output_type": "execute_result",
          "data": {
            "text/html": [
              "<div>\n",
              "<style scoped>\n",
              "    .dataframe tbody tr th:only-of-type {\n",
              "        vertical-align: middle;\n",
              "    }\n",
              "\n",
              "    .dataframe tbody tr th {\n",
              "        vertical-align: top;\n",
              "    }\n",
              "\n",
              "    .dataframe thead th {\n",
              "        text-align: right;\n",
              "    }\n",
              "</style>\n",
              "<table border=\"1\" class=\"dataframe\">\n",
              "  <thead>\n",
              "    <tr style=\"text-align: right;\">\n",
              "      <th></th>\n",
              "      <th>Summary</th>\n",
              "      <th>Temperature (C)</th>\n",
              "      <th>Humidity</th>\n",
              "      <th>Pressure (millibars)</th>\n",
              "    </tr>\n",
              "  </thead>\n",
              "  <tbody>\n",
              "    <tr>\n",
              "      <th>0</th>\n",
              "      <td>Partly Cloudy</td>\n",
              "      <td>9.472222</td>\n",
              "      <td>0.89</td>\n",
              "      <td>1015.13</td>\n",
              "    </tr>\n",
              "    <tr>\n",
              "      <th>1</th>\n",
              "      <td>Partly Cloudy</td>\n",
              "      <td>9.355556</td>\n",
              "      <td>0.86</td>\n",
              "      <td>1015.63</td>\n",
              "    </tr>\n",
              "    <tr>\n",
              "      <th>2</th>\n",
              "      <td>Mostly Cloudy</td>\n",
              "      <td>9.377778</td>\n",
              "      <td>0.89</td>\n",
              "      <td>1015.94</td>\n",
              "    </tr>\n",
              "    <tr>\n",
              "      <th>3</th>\n",
              "      <td>Partly Cloudy</td>\n",
              "      <td>8.288889</td>\n",
              "      <td>0.83</td>\n",
              "      <td>1016.41</td>\n",
              "    </tr>\n",
              "    <tr>\n",
              "      <th>4</th>\n",
              "      <td>Mostly Cloudy</td>\n",
              "      <td>8.755556</td>\n",
              "      <td>0.83</td>\n",
              "      <td>1016.51</td>\n",
              "    </tr>\n",
              "  </tbody>\n",
              "</table>\n",
              "</div>"
            ],
            "text/plain": [
              "         Summary  Temperature (C)  Humidity  Pressure (millibars)\n",
              "0  Partly Cloudy         9.472222      0.89               1015.13\n",
              "1  Partly Cloudy         9.355556      0.86               1015.63\n",
              "2  Mostly Cloudy         9.377778      0.89               1015.94\n",
              "3  Partly Cloudy         8.288889      0.83               1016.41\n",
              "4  Mostly Cloudy         8.755556      0.83               1016.51"
            ]
          },
          "metadata": {
            "tags": []
          },
          "execution_count": 5
        }
      ]
    },
    {
      "cell_type": "code",
      "metadata": {
        "colab": {
          "base_uri": "https://localhost:8080/"
        },
        "id": "rKVrthq9RyFp",
        "outputId": "b6b677ab-2e98-4954-b5bf-1661a0244e2f"
      },
      "source": [
        "weather= weather.drop(weather.index[20000:len(weather)])\r\n",
        "weather.shape"
      ],
      "execution_count": null,
      "outputs": [
        {
          "output_type": "execute_result",
          "data": {
            "text/plain": [
              "(20000, 4)"
            ]
          },
          "metadata": {
            "tags": []
          },
          "execution_count": 6
        }
      ]
    },
    {
      "cell_type": "code",
      "metadata": {
        "id": "9ZaGZZzx5Djw"
      },
      "source": [
        "target= weather['Summary']\r\n",
        "data = weather.drop(['Summary'], axis=1)"
      ],
      "execution_count": null,
      "outputs": []
    },
    {
      "cell_type": "code",
      "metadata": {
        "colab": {
          "base_uri": "https://localhost:8080/"
        },
        "id": "IwI1ISl26V94",
        "outputId": "89d2bdce-50fc-4e75-d207-1b0d3866363e"
      },
      "source": [
        "print(data.shape)\r\n",
        "print(target.shape)"
      ],
      "execution_count": null,
      "outputs": [
        {
          "output_type": "stream",
          "text": [
            "(20000, 3)\n",
            "(20000,)\n"
          ],
          "name": "stdout"
        }
      ]
    },
    {
      "cell_type": "code",
      "metadata": {
        "colab": {
          "base_uri": "https://localhost:8080/"
        },
        "id": "YK8NNu5l6Y3e",
        "outputId": "b6a8c607-28a6-4fab-cea3-b4cde62847cc"
      },
      "source": [
        " class_names = weather['Summary'].unique()\r\n",
        " print(class_names)"
      ],
      "execution_count": null,
      "outputs": [
        {
          "output_type": "stream",
          "text": [
            "['Partly Cloudy' 'Mostly Cloudy' 'Overcast' 'Foggy'\n",
            " 'Breezy and Mostly Cloudy' 'Clear' 'Breezy and Partly Cloudy'\n",
            " 'Breezy and Overcast' 'Humid and Mostly Cloudy' 'Humid and Partly Cloudy'\n",
            " 'Windy and Foggy' 'Windy and Overcast' 'Breezy and Foggy'\n",
            " 'Windy and Partly Cloudy' 'Breezy' 'Dry and Partly Cloudy'\n",
            " 'Windy and Mostly Cloudy' 'Dangerously Windy and Partly Cloudy' 'Dry']\n"
          ],
          "name": "stdout"
        }
      ]
    },
    {
      "cell_type": "code",
      "metadata": {
        "id": "ydQHqrHA1hK-"
      },
      "source": [
        "train_limit = int(len(weather)*85/100)\r\n",
        "validating_limit = int(len(weather)*10/100)\r\n",
        "testing_limit= int(len(weather)*5/100) "
      ],
      "execution_count": null,
      "outputs": []
    },
    {
      "cell_type": "code",
      "metadata": {
        "id": "BIAvoqzn3JaL"
      },
      "source": [
        " training_data = weather.iloc[1:train_limit]\r\n",
        "validating_data = weather.iloc[train_limit: len(weather)-testing_limit]\r\n",
        "testing_data = weather.iloc[train_limit+validating_limit: len(weather)+1] \r\n",
        "\r\n",
        "train_target= training_data['Summary']\r\n",
        "training_data = training_data.drop(['Summary'], axis=1)\r\n",
        "\r\n",
        "valid_target= validating_data['Summary']\r\n",
        "validating_data = validating_data.drop(['Summary'], axis=1)\r\n",
        "\r\n",
        "test_target= testing_data['Summary']\r\n",
        "testing_data = testing_data.drop(['Summary'], axis=1)\r\n"
      ],
      "execution_count": null,
      "outputs": []
    },
    {
      "cell_type": "code",
      "metadata": {
        "colab": {
          "base_uri": "https://localhost:8080/"
        },
        "id": "JGtTBKpPOwtE",
        "outputId": "fcafcc41-58e8-4379-909f-a6ac60fad7f6"
      },
      "source": [
        "print(len(training_data), len(validating_data), len(testing_data))\r\n",
        "print(len(training_data)+len(validating_data)+len(testing_data)) \r\n",
        "print(len(training_data)+len(validating_data))\r\n",
        "print(len(train_target))\r\n",
        "print(len(valid_target))\r\n",
        "\r\n",
        "training_data=pd.concat([training_data,validating_data])\r\n",
        "train_target= pd.concat([train_target,valid_target])\r\n",
        "\r\n",
        "print(len(training_data))\r\n",
        "print(len(train_target))\r\n",
        "\r\n"
      ],
      "execution_count": null,
      "outputs": [
        {
          "output_type": "stream",
          "text": [
            "16999 2000 1000\n",
            "19999\n",
            "18999\n",
            "16999\n",
            "2000\n",
            "18999\n",
            "18999\n"
          ],
          "name": "stdout"
        }
      ]
    },
    {
      "cell_type": "code",
      "metadata": {
        "colab": {
          "base_uri": "https://localhost:8080/"
        },
        "id": "4gjUH8Ay6ivE",
        "outputId": "b11a5ad6-1904-4903-caaa-fec8ccd31f0a"
      },
      "source": [
        "weather.isnull().sum()"
      ],
      "execution_count": null,
      "outputs": [
        {
          "output_type": "execute_result",
          "data": {
            "text/plain": [
              "Summary                 0\n",
              "Temperature (C)         0\n",
              "Humidity                0\n",
              "Pressure (millibars)    0\n",
              "dtype: int64"
            ]
          },
          "metadata": {
            "tags": []
          },
          "execution_count": 13
        }
      ]
    },
    {
      "cell_type": "code",
      "metadata": {
        "colab": {
          "base_uri": "https://localhost:8080/"
        },
        "id": "Ui5RtQKe7Cim",
        "outputId": "602e37ad-cec1-44d5-f3b7-f3306323c30a"
      },
      "source": [
        "training_data.dtypes"
      ],
      "execution_count": null,
      "outputs": [
        {
          "output_type": "execute_result",
          "data": {
            "text/plain": [
              "Temperature (C)         float64\n",
              "Humidity                float64\n",
              "Pressure (millibars)    float64\n",
              "dtype: object"
            ]
          },
          "metadata": {
            "tags": []
          },
          "execution_count": 14
        }
      ]
    },
    {
      "cell_type": "code",
      "metadata": {
        "colab": {
          "base_uri": "https://localhost:8080/",
          "height": 47
        },
        "id": "tAM-h3YV7Fq4",
        "outputId": "7452e72f-51ba-412f-af98-3061a7797c07"
      },
      "source": [
        "training_data.head(0)"
      ],
      "execution_count": null,
      "outputs": [
        {
          "output_type": "execute_result",
          "data": {
            "text/html": [
              "<div>\n",
              "<style scoped>\n",
              "    .dataframe tbody tr th:only-of-type {\n",
              "        vertical-align: middle;\n",
              "    }\n",
              "\n",
              "    .dataframe tbody tr th {\n",
              "        vertical-align: top;\n",
              "    }\n",
              "\n",
              "    .dataframe thead th {\n",
              "        text-align: right;\n",
              "    }\n",
              "</style>\n",
              "<table border=\"1\" class=\"dataframe\">\n",
              "  <thead>\n",
              "    <tr style=\"text-align: right;\">\n",
              "      <th></th>\n",
              "      <th>Temperature (C)</th>\n",
              "      <th>Humidity</th>\n",
              "      <th>Pressure (millibars)</th>\n",
              "    </tr>\n",
              "  </thead>\n",
              "  <tbody>\n",
              "  </tbody>\n",
              "</table>\n",
              "</div>"
            ],
            "text/plain": [
              "Empty DataFrame\n",
              "Columns: [Temperature (C), Humidity, Pressure (millibars)]\n",
              "Index: []"
            ]
          },
          "metadata": {
            "tags": []
          },
          "execution_count": 15
        }
      ]
    },
    {
      "cell_type": "code",
      "metadata": {
        "id": "VEufkYCmAgQx"
      },
      "source": [
        "header = training_data.iloc[0]\r\n",
        "training_data=training_data.rename(columns=header)"
      ],
      "execution_count": null,
      "outputs": []
    },
    {
      "cell_type": "code",
      "metadata": {
        "colab": {
          "base_uri": "https://localhost:8080/",
          "height": 47
        },
        "id": "22M1TTwjApc-",
        "outputId": "73f5e1b1-2e1e-48c8-90d9-2bfccc532470"
      },
      "source": [
        "training_data.head(0)"
      ],
      "execution_count": null,
      "outputs": [
        {
          "output_type": "execute_result",
          "data": {
            "text/html": [
              "<div>\n",
              "<style scoped>\n",
              "    .dataframe tbody tr th:only-of-type {\n",
              "        vertical-align: middle;\n",
              "    }\n",
              "\n",
              "    .dataframe tbody tr th {\n",
              "        vertical-align: top;\n",
              "    }\n",
              "\n",
              "    .dataframe thead th {\n",
              "        text-align: right;\n",
              "    }\n",
              "</style>\n",
              "<table border=\"1\" class=\"dataframe\">\n",
              "  <thead>\n",
              "    <tr style=\"text-align: right;\">\n",
              "      <th></th>\n",
              "      <th>9.355556</th>\n",
              "      <th>0.860000</th>\n",
              "      <th>1015.630000</th>\n",
              "    </tr>\n",
              "  </thead>\n",
              "  <tbody>\n",
              "  </tbody>\n",
              "</table>\n",
              "</div>"
            ],
            "text/plain": [
              "Empty DataFrame\n",
              "Columns: [9.355555556, 0.86, 1015.63]\n",
              "Index: []"
            ]
          },
          "metadata": {
            "tags": []
          },
          "execution_count": 17
        }
      ]
    },
    {
      "cell_type": "code",
      "metadata": {
        "colab": {
          "base_uri": "https://localhost:8080/"
        },
        "id": "TgxsBjNj_Kdy",
        "outputId": "52d25256-07e3-4568-bbbd-6d73aeff8432"
      },
      "source": [
        "train_target.head(1)"
      ],
      "execution_count": null,
      "outputs": [
        {
          "output_type": "execute_result",
          "data": {
            "text/plain": [
              "1    Partly Cloudy\n",
              "Name: Summary, dtype: object"
            ]
          },
          "metadata": {
            "tags": []
          },
          "execution_count": 18
        }
      ]
    },
    {
      "cell_type": "code",
      "metadata": {
        "colab": {
          "base_uri": "https://localhost:8080/"
        },
        "id": "a1LzAbdpDvMm",
        "outputId": "299ae82c-412e-4e2e-f043-8de819e7209d"
      },
      "source": [
        "train_target_with_dummies = pd.get_dummies(train_target)\r\n",
        "print(train_target_with_dummies)"
      ],
      "execution_count": null,
      "outputs": [
        {
          "output_type": "stream",
          "text": [
            "       Breezy  Breezy and Foggy  ...  Windy and Overcast  Windy and Partly Cloudy\n",
            "1           0                 0  ...                   0                        0\n",
            "2           0                 0  ...                   0                        0\n",
            "3           0                 0  ...                   0                        0\n",
            "4           0                 0  ...                   0                        0\n",
            "5           0                 0  ...                   0                        0\n",
            "...       ...               ...  ...                 ...                      ...\n",
            "18995       0                 0  ...                   0                        0\n",
            "18996       0                 0  ...                   0                        0\n",
            "18997       0                 0  ...                   0                        0\n",
            "18998       0                 0  ...                   0                        0\n",
            "18999       0                 0  ...                   0                        0\n",
            "\n",
            "[18999 rows x 19 columns]\n"
          ],
          "name": "stdout"
        }
      ]
    },
    {
      "cell_type": "code",
      "metadata": {
        "colab": {
          "base_uri": "https://localhost:8080/",
          "height": 266
        },
        "id": "SGTu7I7VEJ7I",
        "outputId": "d0057460-eca5-4aa4-bc93-e97ba21b8994"
      },
      "source": [
        "train_target_with_dummies.head()"
      ],
      "execution_count": null,
      "outputs": [
        {
          "output_type": "execute_result",
          "data": {
            "text/html": [
              "<div>\n",
              "<style scoped>\n",
              "    .dataframe tbody tr th:only-of-type {\n",
              "        vertical-align: middle;\n",
              "    }\n",
              "\n",
              "    .dataframe tbody tr th {\n",
              "        vertical-align: top;\n",
              "    }\n",
              "\n",
              "    .dataframe thead th {\n",
              "        text-align: right;\n",
              "    }\n",
              "</style>\n",
              "<table border=\"1\" class=\"dataframe\">\n",
              "  <thead>\n",
              "    <tr style=\"text-align: right;\">\n",
              "      <th></th>\n",
              "      <th>Breezy</th>\n",
              "      <th>Breezy and Foggy</th>\n",
              "      <th>Breezy and Mostly Cloudy</th>\n",
              "      <th>Breezy and Overcast</th>\n",
              "      <th>Breezy and Partly Cloudy</th>\n",
              "      <th>Clear</th>\n",
              "      <th>Dangerously Windy and Partly Cloudy</th>\n",
              "      <th>Dry</th>\n",
              "      <th>Dry and Partly Cloudy</th>\n",
              "      <th>Foggy</th>\n",
              "      <th>Humid and Mostly Cloudy</th>\n",
              "      <th>Humid and Partly Cloudy</th>\n",
              "      <th>Mostly Cloudy</th>\n",
              "      <th>Overcast</th>\n",
              "      <th>Partly Cloudy</th>\n",
              "      <th>Windy and Foggy</th>\n",
              "      <th>Windy and Mostly Cloudy</th>\n",
              "      <th>Windy and Overcast</th>\n",
              "      <th>Windy and Partly Cloudy</th>\n",
              "    </tr>\n",
              "  </thead>\n",
              "  <tbody>\n",
              "    <tr>\n",
              "      <th>1</th>\n",
              "      <td>0</td>\n",
              "      <td>0</td>\n",
              "      <td>0</td>\n",
              "      <td>0</td>\n",
              "      <td>0</td>\n",
              "      <td>0</td>\n",
              "      <td>0</td>\n",
              "      <td>0</td>\n",
              "      <td>0</td>\n",
              "      <td>0</td>\n",
              "      <td>0</td>\n",
              "      <td>0</td>\n",
              "      <td>0</td>\n",
              "      <td>0</td>\n",
              "      <td>1</td>\n",
              "      <td>0</td>\n",
              "      <td>0</td>\n",
              "      <td>0</td>\n",
              "      <td>0</td>\n",
              "    </tr>\n",
              "    <tr>\n",
              "      <th>2</th>\n",
              "      <td>0</td>\n",
              "      <td>0</td>\n",
              "      <td>0</td>\n",
              "      <td>0</td>\n",
              "      <td>0</td>\n",
              "      <td>0</td>\n",
              "      <td>0</td>\n",
              "      <td>0</td>\n",
              "      <td>0</td>\n",
              "      <td>0</td>\n",
              "      <td>0</td>\n",
              "      <td>0</td>\n",
              "      <td>1</td>\n",
              "      <td>0</td>\n",
              "      <td>0</td>\n",
              "      <td>0</td>\n",
              "      <td>0</td>\n",
              "      <td>0</td>\n",
              "      <td>0</td>\n",
              "    </tr>\n",
              "    <tr>\n",
              "      <th>3</th>\n",
              "      <td>0</td>\n",
              "      <td>0</td>\n",
              "      <td>0</td>\n",
              "      <td>0</td>\n",
              "      <td>0</td>\n",
              "      <td>0</td>\n",
              "      <td>0</td>\n",
              "      <td>0</td>\n",
              "      <td>0</td>\n",
              "      <td>0</td>\n",
              "      <td>0</td>\n",
              "      <td>0</td>\n",
              "      <td>0</td>\n",
              "      <td>0</td>\n",
              "      <td>1</td>\n",
              "      <td>0</td>\n",
              "      <td>0</td>\n",
              "      <td>0</td>\n",
              "      <td>0</td>\n",
              "    </tr>\n",
              "    <tr>\n",
              "      <th>4</th>\n",
              "      <td>0</td>\n",
              "      <td>0</td>\n",
              "      <td>0</td>\n",
              "      <td>0</td>\n",
              "      <td>0</td>\n",
              "      <td>0</td>\n",
              "      <td>0</td>\n",
              "      <td>0</td>\n",
              "      <td>0</td>\n",
              "      <td>0</td>\n",
              "      <td>0</td>\n",
              "      <td>0</td>\n",
              "      <td>1</td>\n",
              "      <td>0</td>\n",
              "      <td>0</td>\n",
              "      <td>0</td>\n",
              "      <td>0</td>\n",
              "      <td>0</td>\n",
              "      <td>0</td>\n",
              "    </tr>\n",
              "    <tr>\n",
              "      <th>5</th>\n",
              "      <td>0</td>\n",
              "      <td>0</td>\n",
              "      <td>0</td>\n",
              "      <td>0</td>\n",
              "      <td>0</td>\n",
              "      <td>0</td>\n",
              "      <td>0</td>\n",
              "      <td>0</td>\n",
              "      <td>0</td>\n",
              "      <td>0</td>\n",
              "      <td>0</td>\n",
              "      <td>0</td>\n",
              "      <td>0</td>\n",
              "      <td>0</td>\n",
              "      <td>1</td>\n",
              "      <td>0</td>\n",
              "      <td>0</td>\n",
              "      <td>0</td>\n",
              "      <td>0</td>\n",
              "    </tr>\n",
              "  </tbody>\n",
              "</table>\n",
              "</div>"
            ],
            "text/plain": [
              "   Breezy  Breezy and Foggy  ...  Windy and Overcast  Windy and Partly Cloudy\n",
              "1       0                 0  ...                   0                        0\n",
              "2       0                 0  ...                   0                        0\n",
              "3       0                 0  ...                   0                        0\n",
              "4       0                 0  ...                   0                        0\n",
              "5       0                 0  ...                   0                        0\n",
              "\n",
              "[5 rows x 19 columns]"
            ]
          },
          "metadata": {
            "tags": []
          },
          "execution_count": 20
        }
      ]
    },
    {
      "cell_type": "code",
      "metadata": {
        "id": "HPC88z6TEjY3"
      },
      "source": [
        "header = train_target_with_dummies.iloc[0]\r\n",
        "train_target_with_dummies=train_target_with_dummies.rename(columns=header)"
      ],
      "execution_count": null,
      "outputs": []
    },
    {
      "cell_type": "code",
      "metadata": {
        "colab": {
          "base_uri": "https://localhost:8080/",
          "height": 47
        },
        "id": "QMeV22HzExYy",
        "outputId": "3c579d8e-c9c8-45a7-e8b7-38f486fdf256"
      },
      "source": [
        "train_target_with_dummies.head(0)"
      ],
      "execution_count": null,
      "outputs": [
        {
          "output_type": "execute_result",
          "data": {
            "text/html": [
              "<div>\n",
              "<style scoped>\n",
              "    .dataframe tbody tr th:only-of-type {\n",
              "        vertical-align: middle;\n",
              "    }\n",
              "\n",
              "    .dataframe tbody tr th {\n",
              "        vertical-align: top;\n",
              "    }\n",
              "\n",
              "    .dataframe thead th {\n",
              "        text-align: right;\n",
              "    }\n",
              "</style>\n",
              "<table border=\"1\" class=\"dataframe\">\n",
              "  <thead>\n",
              "    <tr style=\"text-align: right;\">\n",
              "      <th></th>\n",
              "      <th>0</th>\n",
              "      <th>0</th>\n",
              "      <th>0</th>\n",
              "      <th>0</th>\n",
              "      <th>0</th>\n",
              "      <th>0</th>\n",
              "      <th>0</th>\n",
              "      <th>0</th>\n",
              "      <th>0</th>\n",
              "      <th>0</th>\n",
              "      <th>0</th>\n",
              "      <th>0</th>\n",
              "      <th>0</th>\n",
              "      <th>0</th>\n",
              "      <th>1</th>\n",
              "      <th>0</th>\n",
              "      <th>0</th>\n",
              "      <th>0</th>\n",
              "      <th>0</th>\n",
              "    </tr>\n",
              "  </thead>\n",
              "  <tbody>\n",
              "  </tbody>\n",
              "</table>\n",
              "</div>"
            ],
            "text/plain": [
              "Empty DataFrame\n",
              "Columns: [0, 0, 0, 0, 0, 0, 0, 0, 0, 0, 0, 0, 0, 0, 1, 0, 0, 0, 0]\n",
              "Index: []"
            ]
          },
          "metadata": {
            "tags": []
          },
          "execution_count": 22
        }
      ]
    },
    {
      "cell_type": "code",
      "metadata": {
        "id": "VyuR9C-u7LxI"
      },
      "source": [
        "train_dataset = tf.data.Dataset.from_tensor_slices((training_data.values, train_target_with_dummies.values))"
      ],
      "execution_count": null,
      "outputs": []
    },
    {
      "cell_type": "code",
      "metadata": {
        "id": "FByoN1TkEvpn"
      },
      "source": [
        ""
      ],
      "execution_count": null,
      "outputs": []
    },
    {
      "cell_type": "code",
      "metadata": {
        "colab": {
          "base_uri": "https://localhost:8080/"
        },
        "id": "-FN16xEp9Kpo",
        "outputId": "fe6fe729-1c18-4f66-e9d5-cae1654730d1"
      },
      "source": [
        "for feat, targ in train_dataset.take(5):\r\n",
        "  print ('Features: {}, Target: {}'.format(feat, targ))"
      ],
      "execution_count": null,
      "outputs": [
        {
          "output_type": "stream",
          "text": [
            "Features: [9.35555556e+00 8.60000000e-01 1.01563000e+03], Target: [0 0 0 0 0 0 0 0 0 0 0 0 0 0 1 0 0 0 0]\n",
            "Features: [9.37777778e+00 8.90000000e-01 1.01594000e+03], Target: [0 0 0 0 0 0 0 0 0 0 0 0 1 0 0 0 0 0 0]\n",
            "Features: [8.28888889e+00 8.30000000e-01 1.01641000e+03], Target: [0 0 0 0 0 0 0 0 0 0 0 0 0 0 1 0 0 0 0]\n",
            "Features: [8.75555556e+00 8.30000000e-01 1.01651000e+03], Target: [0 0 0 0 0 0 0 0 0 0 0 0 1 0 0 0 0 0 0]\n",
            "Features: [9.22222222e+00 8.50000000e-01 1.01666000e+03], Target: [0 0 0 0 0 0 0 0 0 0 0 0 0 0 1 0 0 0 0]\n"
          ],
          "name": "stdout"
        }
      ]
    },
    {
      "cell_type": "code",
      "metadata": {
        "id": "75btdonY7Pf0"
      },
      "source": [
        "train_dataset = train_dataset.shuffle(len(training_data)).batch(1)"
      ],
      "execution_count": null,
      "outputs": []
    },
    {
      "cell_type": "code",
      "metadata": {
        "id": "YsdGJBdR71Dl"
      },
      "source": [
        "def get_compiled_model():\r\n",
        "  model = tf.keras.Sequential([\r\n",
        "    tf.keras.layers.Dense(10, activation='relu'),\r\n",
        "    tf.keras.layers.Dense(10, activation='relu'),\r\n",
        "    tf.keras.layers.Dense(19, activation='softmax')\r\n",
        "  ])\r\n",
        "\r\n",
        "  model.compile(optimizer='adam',\r\n",
        "                loss=tf.keras.losses.BinaryCrossentropy(from_logits=True),\r\n",
        "                metrics=['accuracy'])\r\n",
        "  return model"
      ],
      "execution_count": null,
      "outputs": []
    },
    {
      "cell_type": "code",
      "metadata": {
        "colab": {
          "base_uri": "https://localhost:8080/"
        },
        "id": "givFCDqw8XEL",
        "outputId": "c0d81d81-aed8-49c0-d446-86b50d91a7c5"
      },
      "source": [
        "model = get_compiled_model()\r\n",
        "model.fit(train_dataset, epochs=10)"
      ],
      "execution_count": null,
      "outputs": [
        {
          "output_type": "stream",
          "text": [
            "Epoch 1/10\n",
            "18999/18999 [==============================] - 57s 3ms/step - loss: 0.9978 - accuracy: 0.2929\n",
            "Epoch 2/10\n",
            "18999/18999 [==============================] - 55s 3ms/step - loss: 0.1254 - accuracy: 0.3611\n",
            "Epoch 3/10\n",
            "18999/18999 [==============================] - 55s 3ms/step - loss: 0.1240 - accuracy: 0.3653\n",
            "Epoch 4/10\n",
            "18999/18999 [==============================] - 54s 3ms/step - loss: 0.1222 - accuracy: 0.3740\n",
            "Epoch 5/10\n",
            "18999/18999 [==============================] - 54s 3ms/step - loss: 0.1216 - accuracy: 0.3665\n",
            "Epoch 6/10\n",
            "18999/18999 [==============================] - 54s 3ms/step - loss: 0.1218 - accuracy: 0.3754\n",
            "Epoch 7/10\n",
            "18999/18999 [==============================] - 55s 3ms/step - loss: 0.1215 - accuracy: 0.3712\n",
            "Epoch 8/10\n",
            "18999/18999 [==============================] - 54s 3ms/step - loss: 0.1215 - accuracy: 0.3782\n",
            "Epoch 9/10\n",
            "18999/18999 [==============================] - 55s 3ms/step - loss: 0.1216 - accuracy: 0.3735\n",
            "Epoch 10/10\n",
            "18999/18999 [==============================] - 54s 3ms/step - loss: 0.1213 - accuracy: 0.3813\n"
          ],
          "name": "stdout"
        },
        {
          "output_type": "execute_result",
          "data": {
            "text/plain": [
              "<tensorflow.python.keras.callbacks.History at 0x7fa6446485f8>"
            ]
          },
          "metadata": {
            "tags": []
          },
          "execution_count": 27
        }
      ]
    },
    {
      "cell_type": "code",
      "metadata": {
        "colab": {
          "base_uri": "https://localhost:8080/"
        },
        "id": "NLF2D0jHNnA1",
        "outputId": "163c69b2-52da-4e53-e1b1-9800099ff34f"
      },
      "source": [
        "model.input"
      ],
      "execution_count": null,
      "outputs": [
        {
          "output_type": "execute_result",
          "data": {
            "text/plain": [
              "<KerasTensor: shape=(None, 3) dtype=float64 (created by layer 'dense_input')>"
            ]
          },
          "metadata": {
            "tags": []
          },
          "execution_count": 28
        }
      ]
    },
    {
      "cell_type": "code",
      "metadata": {
        "id": "TqyUbt1a8cnQ",
        "colab": {
          "base_uri": "https://localhost:8080/"
        },
        "outputId": "552d3886-2f2e-483d-8d6f-d2affe7e21e2"
      },
      "source": [
        "!mkdir weather_model\r\n"
      ],
      "execution_count": null,
      "outputs": [
        {
          "output_type": "stream",
          "text": [
            "mkdir: cannot create directory ‘weather_model’: File exists\n"
          ],
          "name": "stdout"
        }
      ]
    },
    {
      "cell_type": "markdown",
      "metadata": {
        "id": "xttKAeyuhOsg"
      },
      "source": [
        "Model Saving\r\n"
      ]
    },
    {
      "cell_type": "code",
      "metadata": {
        "colab": {
          "base_uri": "https://localhost:8080/"
        },
        "id": "wP-QNLd4jDLs",
        "outputId": "1ece7832-f997-4e4e-a7e0-0fb4c971dfbe"
      },
      "source": [
        "import tempfile\r\n",
        "\r\n",
        "MODEL_DIR = \"/content/weather_model\"\r\n",
        "version = 1\r\n",
        "export_path = os.path.join(MODEL_DIR, str(version))\r\n",
        "print('export_path = {}\\n'.format(export_path))\r\n",
        "\r\n",
        "tf.keras.models.save_model(\r\n",
        "    model,\r\n",
        "    export_path,\r\n",
        "    overwrite=True,\r\n",
        "    include_optimizer=True,\r\n",
        "    save_format=None,\r\n",
        "    signatures=None,\r\n",
        "    options=None\r\n",
        ")\r\n",
        "\r\n",
        "print('\\nSaved model:')\r\n",
        "!ls -l {export_path}"
      ],
      "execution_count": null,
      "outputs": [
        {
          "output_type": "stream",
          "text": [
            "export_path = /content/weather_model/1\n",
            "\n",
            "INFO:tensorflow:Assets written to: /content/weather_model/1/assets\n",
            "\n",
            "Saved model:\n",
            "total 100\n",
            "drwxr-xr-x 2 root root  4096 Dec 19 14:07 assets\n",
            "-rw-r--r-- 1 root root 91935 Dec 19 14:08 saved_model.pb\n",
            "drwxr-xr-x 2 root root  4096 Dec 19 14:08 variables\n"
          ],
          "name": "stdout"
        }
      ]
    },
    {
      "cell_type": "code",
      "metadata": {
        "colab": {
          "base_uri": "https://localhost:8080/"
        },
        "id": "CPxABgq1yutB",
        "outputId": "ca4abd40-8ebe-4104-926a-7a1a1f5995ca"
      },
      "source": [
        "!saved_model_cli show --dir /content/weather_model/1 --all"
      ],
      "execution_count": null,
      "outputs": [
        {
          "output_type": "stream",
          "text": [
            "\n",
            "MetaGraphDef with tag-set: 'serve' contains the following SignatureDefs:\n",
            "\n",
            "signature_def['__saved_model_init_op']:\n",
            "  The given SavedModel SignatureDef contains the following input(s):\n",
            "  The given SavedModel SignatureDef contains the following output(s):\n",
            "    outputs['__saved_model_init_op'] tensor_info:\n",
            "        dtype: DT_INVALID\n",
            "        shape: unknown_rank\n",
            "        name: NoOp\n",
            "  Method name is: \n",
            "\n",
            "signature_def['serving_default']:\n",
            "  The given SavedModel SignatureDef contains the following input(s):\n",
            "    inputs['dense_input'] tensor_info:\n",
            "        dtype: DT_DOUBLE\n",
            "        shape: (-1, 3)\n",
            "        name: serving_default_dense_input:0\n",
            "  The given SavedModel SignatureDef contains the following output(s):\n",
            "    outputs['dense_2'] tensor_info:\n",
            "        dtype: DT_FLOAT\n",
            "        shape: (-1, 19)\n",
            "        name: StatefulPartitionedCall:0\n",
            "  Method name is: tensorflow/serving/predict\n",
            "WARNING: Logging before flag parsing goes to stderr.\n",
            "W1219 14:08:12.699723 140059649578880 deprecation.py:506] From /usr/local/lib/python2.7/dist-packages/tensorflow_core/python/ops/resource_variable_ops.py:1786: calling __init__ (from tensorflow.python.ops.resource_variable_ops) with constraint is deprecated and will be removed in a future version.\n",
            "Instructions for updating:\n",
            "If using Keras pass *_constraint arguments to layers.\n",
            "\n",
            "Defined Functions:\n",
            "  Function Name: '__call__'\n",
            "    Option #1\n",
            "      Callable with:\n",
            "        Argument #1\n",
            "          inputs: TensorSpec(shape=(None, 3), dtype=tf.float64, name=u'inputs')\n",
            "        Argument #2\n",
            "          DType: bool\n",
            "          Value: False\n",
            "        Argument #3\n",
            "          DType: NoneType\n",
            "          Value: None\n",
            "    Option #2\n",
            "      Callable with:\n",
            "        Argument #1\n",
            "          dense_input: TensorSpec(shape=(None, 3), dtype=tf.float64, name=u'dense_input')\n",
            "        Argument #2\n",
            "          DType: bool\n",
            "          Value: False\n",
            "        Argument #3\n",
            "          DType: NoneType\n",
            "          Value: None\n",
            "    Option #3\n",
            "      Callable with:\n",
            "        Argument #1\n",
            "          dense_input: TensorSpec(shape=(None, 3), dtype=tf.float64, name=u'dense_input')\n",
            "        Argument #2\n",
            "          DType: bool\n",
            "          Value: True\n",
            "        Argument #3\n",
            "          DType: NoneType\n",
            "          Value: None\n",
            "    Option #4\n",
            "      Callable with:\n",
            "        Argument #1\n",
            "          inputs: TensorSpec(shape=(None, 3), dtype=tf.float64, name=u'inputs')\n",
            "        Argument #2\n",
            "          DType: bool\n",
            "          Value: True\n",
            "        Argument #3\n",
            "          DType: NoneType\n",
            "          Value: None\n",
            "\n",
            "  Function Name: '_default_save_signature'\n",
            "    Option #1\n",
            "      Callable with:\n",
            "        Argument #1\n",
            "          dense_input: TensorSpec(shape=(None, 3), dtype=tf.float64, name=u'dense_input')\n",
            "\n",
            "  Function Name: 'call_and_return_all_conditional_losses'\n",
            "    Option #1\n",
            "      Callable with:\n",
            "        Argument #1\n",
            "          inputs: TensorSpec(shape=(None, 3), dtype=tf.float64, name=u'inputs')\n",
            "        Argument #2\n",
            "          DType: bool\n",
            "          Value: False\n",
            "        Argument #3\n",
            "          DType: NoneType\n",
            "          Value: None\n",
            "    Option #2\n",
            "      Callable with:\n",
            "        Argument #1\n",
            "          inputs: TensorSpec(shape=(None, 3), dtype=tf.float64, name=u'inputs')\n",
            "        Argument #2\n",
            "          DType: bool\n",
            "          Value: True\n",
            "        Argument #3\n",
            "          DType: NoneType\n",
            "          Value: None\n",
            "    Option #3\n",
            "      Callable with:\n",
            "        Argument #1\n",
            "          dense_input: TensorSpec(shape=(None, 3), dtype=tf.float64, name=u'dense_input')\n",
            "        Argument #2\n",
            "          DType: bool\n",
            "          Value: False\n",
            "        Argument #3\n",
            "          DType: NoneType\n",
            "          Value: None\n",
            "    Option #4\n",
            "      Callable with:\n",
            "        Argument #1\n",
            "          dense_input: TensorSpec(shape=(None, 3), dtype=tf.float64, name=u'dense_input')\n",
            "        Argument #2\n",
            "          DType: bool\n",
            "          Value: True\n",
            "        Argument #3\n",
            "          DType: NoneType\n",
            "          Value: None\n"
          ],
          "name": "stdout"
        }
      ]
    },
    {
      "cell_type": "code",
      "metadata": {
        "colab": {
          "base_uri": "https://localhost:8080/"
        },
        "id": "n-5jZ0F7jD15",
        "outputId": "4a189f18-5512-4b32-b626-19984193ad25"
      },
      "source": [
        "# This is the same as you would do from your command line, but without the [arch=amd64], and no sudo\r\n",
        "# You would instead do:\r\n",
        "# echo \"deb [arch=amd64] http://storage.googleapis.com/tensorflow-serving-apt stable tensorflow-model-server tensorflow-model-server-universal\" | sudo tee /etc/apt/sources.list.d/tensorflow-serving.list && \\\r\n",
        "# curl https://storage.googleapis.com/tensorflow-serving-apt/tensorflow-serving.release.pub.gpg | sudo apt-key add -\r\n",
        "\r\n",
        "!echo \"deb http://storage.googleapis.com/tensorflow-serving-apt stable tensorflow-model-server tensorflow-model-server-universal\" | tee /etc/apt/sources.list.d/tensorflow-serving.list && \\\r\n",
        "curl https://storage.googleapis.com/tensorflow-serving-apt/tensorflow-serving.release.pub.gpg | apt-key add -\r\n",
        "!apt update\r\n"
      ],
      "execution_count": null,
      "outputs": [
        {
          "output_type": "stream",
          "text": [
            "deb http://storage.googleapis.com/tensorflow-serving-apt stable tensorflow-model-server tensorflow-model-server-universal\n",
            "  % Total    % Received % Xferd  Average Speed   Time    Time     Time  Current\n",
            "                                 Dload  Upload   Total   Spent    Left  Speed\n",
            "\r  0     0    0     0    0     0      0      0 --:--:-- --:--:-- --:--:--     0\r100  2943  100  2943    0     0  35457      0 --:--:-- --:--:-- --:--:-- 35457\n",
            "OK\n",
            "Get:1 https://cloud.r-project.org/bin/linux/ubuntu bionic-cran40/ InRelease [3,626 B]\n",
            "Ign:2 https://developer.download.nvidia.com/compute/cuda/repos/ubuntu1804/x86_64  InRelease\n",
            "Get:3 http://storage.googleapis.com/tensorflow-serving-apt stable InRelease [3,012 B]\n",
            "Ign:4 https://developer.download.nvidia.com/compute/machine-learning/repos/ubuntu1804/x86_64  InRelease\n",
            "Get:5 https://developer.download.nvidia.com/compute/cuda/repos/ubuntu1804/x86_64  Release [697 B]\n",
            "Get:6 https://developer.download.nvidia.com/compute/machine-learning/repos/ubuntu1804/x86_64  Release [564 B]\n",
            "Get:7 http://security.ubuntu.com/ubuntu bionic-security InRelease [88.7 kB]\n",
            "Get:8 https://developer.download.nvidia.com/compute/cuda/repos/ubuntu1804/x86_64  Release.gpg [836 B]\n",
            "Get:9 https://developer.download.nvidia.com/compute/machine-learning/repos/ubuntu1804/x86_64  Release.gpg [833 B]\n",
            "Get:10 https://cloud.r-project.org/bin/linux/ubuntu bionic-cran40/ Packages [40.7 kB]\n",
            "Get:11 http://ppa.launchpad.net/c2d4u.team/c2d4u4.0+/ubuntu bionic InRelease [15.9 kB]\n",
            "Hit:12 http://archive.ubuntu.com/ubuntu bionic InRelease\n",
            "Get:13 http://storage.googleapis.com/tensorflow-serving-apt stable/tensorflow-model-server amd64 Packages [340 B]\n",
            "Get:14 http://storage.googleapis.com/tensorflow-serving-apt stable/tensorflow-model-server-universal amd64 Packages [346 B]\n",
            "Get:15 http://archive.ubuntu.com/ubuntu bionic-updates InRelease [88.7 kB]\n",
            "Ign:16 https://developer.download.nvidia.com/compute/cuda/repos/ubuntu1804/x86_64  Packages\n",
            "Get:16 https://developer.download.nvidia.com/compute/cuda/repos/ubuntu1804/x86_64  Packages [506 kB]\n",
            "Get:17 http://ppa.launchpad.net/graphics-drivers/ppa/ubuntu bionic InRelease [21.3 kB]\n",
            "Get:18 https://developer.download.nvidia.com/compute/machine-learning/repos/ubuntu1804/x86_64  Packages [66.1 kB]\n",
            "Get:19 http://security.ubuntu.com/ubuntu bionic-security/multiverse amd64 Packages [15.3 kB]\n",
            "Get:20 http://archive.ubuntu.com/ubuntu bionic-backports InRelease [74.6 kB]\n",
            "Get:21 http://security.ubuntu.com/ubuntu bionic-security/main amd64 Packages [1,816 kB]\n",
            "Get:22 http://ppa.launchpad.net/c2d4u.team/c2d4u4.0+/ubuntu bionic/main Sources [1,699 kB]\n",
            "Get:23 http://security.ubuntu.com/ubuntu bionic-security/universe amd64 Packages [1,372 kB]\n",
            "Get:24 http://security.ubuntu.com/ubuntu bionic-security/restricted amd64 Packages [237 kB]\n",
            "Get:25 http://archive.ubuntu.com/ubuntu bionic-updates/main amd64 Packages [2,244 kB]\n",
            "Get:26 http://ppa.launchpad.net/c2d4u.team/c2d4u4.0+/ubuntu bionic/main amd64 Packages [870 kB]\n",
            "Get:27 http://archive.ubuntu.com/ubuntu bionic-updates/multiverse amd64 Packages [53.8 kB]\n",
            "Get:28 http://archive.ubuntu.com/ubuntu bionic-updates/restricted amd64 Packages [266 kB]\n",
            "Get:29 http://archive.ubuntu.com/ubuntu bionic-updates/universe amd64 Packages [2,136 kB]\n",
            "Get:30 http://ppa.launchpad.net/graphics-drivers/ppa/ubuntu bionic/main amd64 Packages [46.5 kB]\n",
            "Fetched 11.7 MB in 4s (3,079 kB/s)\n",
            "Reading package lists... Done\n",
            "Building dependency tree       \n",
            "Reading state information... Done\n",
            "59 packages can be upgraded. Run 'apt list --upgradable' to see them.\n"
          ],
          "name": "stdout"
        }
      ]
    },
    {
      "cell_type": "markdown",
      "metadata": {
        "id": "GYDCJ5APklE8"
      },
      "source": [
        "Install Tensorflow Serving"
      ]
    },
    {
      "cell_type": "code",
      "metadata": {
        "colab": {
          "base_uri": "https://localhost:8080/"
        },
        "id": "lavD0_Mejpxt",
        "outputId": "a4421144-0928-4781-bc3b-6697ab6ade33"
      },
      "source": [
        "!apt-get install tensorflow-model-server"
      ],
      "execution_count": null,
      "outputs": [
        {
          "output_type": "stream",
          "text": [
            "Reading package lists... Done\n",
            "Building dependency tree       \n",
            "Reading state information... Done\n",
            "The following NEW packages will be installed:\n",
            "  tensorflow-model-server\n",
            "0 upgraded, 1 newly installed, 0 to remove and 59 not upgraded.\n",
            "Need to get 223 MB of archives.\n",
            "After this operation, 0 B of additional disk space will be used.\n",
            "Get:1 http://storage.googleapis.com/tensorflow-serving-apt stable/tensorflow-model-server amd64 tensorflow-model-server all 2.4.0 [223 MB]\n",
            "Fetched 223 MB in 3s (68.4 MB/s)\n",
            "Selecting previously unselected package tensorflow-model-server.\n",
            "(Reading database ... 144865 files and directories currently installed.)\n",
            "Preparing to unpack .../tensorflow-model-server_2.4.0_all.deb ...\n",
            "Unpacking tensorflow-model-server (2.4.0) ...\n",
            "Setting up tensorflow-model-server (2.4.0) ...\n"
          ],
          "name": "stdout"
        }
      ]
    },
    {
      "cell_type": "code",
      "metadata": {
        "colab": {
          "base_uri": "https://localhost:8080/",
          "height": 35
        },
        "id": "EZHwmTPg8t6G",
        "outputId": "4561b61e-04e3-42b5-b14c-12b375f6c0a7"
      },
      "source": [
        "MODEL_DIR"
      ],
      "execution_count": null,
      "outputs": [
        {
          "output_type": "execute_result",
          "data": {
            "application/vnd.google.colaboratory.intrinsic+json": {
              "type": "string"
            },
            "text/plain": [
              "'/content/weather_model'"
            ]
          },
          "metadata": {
            "tags": []
          },
          "execution_count": 37
        }
      ]
    },
    {
      "cell_type": "code",
      "metadata": {
        "id": "ULMdYa5cmQEe"
      },
      "source": [
        "os.environ[\"MODEL_DIR\"] = MODEL_DIR"
      ],
      "execution_count": null,
      "outputs": []
    },
    {
      "cell_type": "code",
      "metadata": {
        "colab": {
          "base_uri": "https://localhost:8080/"
        },
        "id": "tB9TDK141FsC",
        "outputId": "4e431ac7-235b-40dd-ec4e-b7f99d373193"
      },
      "source": [
        "%%bash --bg\r\n",
        "nohup tensorflow_model_server \\\r\n",
        "  --rest_api_port=8501 \\\r\n",
        "  --model_name=weather_model \\\r\n",
        "  --model_base_path=\"$MODEL_DIR\" >server.log 2>&1"
      ],
      "execution_count": null,
      "outputs": [
        {
          "output_type": "stream",
          "text": [
            "Starting job # 0 in a separate thread.\n"
          ],
          "name": "stdout"
        }
      ]
    },
    {
      "cell_type": "code",
      "metadata": {
        "id": "rhMTIIhl2-Tj"
      },
      "source": [
        "!tail server.log"
      ],
      "execution_count": null,
      "outputs": []
    },
    {
      "cell_type": "code",
      "metadata": {
        "id": "34IloYBmOOS4"
      },
      "source": [
        "test_val = np.array([-1, 9.355556, 0.860000, 1015.630000])\r\n",
        "test_val = np.resize(test_val,(1,3))"
      ],
      "execution_count": null,
      "outputs": []
    },
    {
      "cell_type": "code",
      "metadata": {
        "id": "-VqxktA64V2K",
        "colab": {
          "base_uri": "https://localhost:8080/"
        },
        "outputId": "f1fc3da8-2156-4b0f-fced-d7136225a1b7"
      },
      "source": [
        "import json\r\n",
        "data = json.dumps({\"signature_name\": \"serving_default\", \"instances\": test_val.tolist()})\r\n",
        "print('Data: {} ... {}'.format(data[:50], data[len(data)-52:]))"
      ],
      "execution_count": null,
      "outputs": [
        {
          "output_type": "stream",
          "text": [
            "Data: {\"signature_name\": \"serving_default\", \"instances\": ... ing_default\", \"instances\": [[-1.0, 9.355556, 0.86]]}\n"
          ],
          "name": "stdout"
        }
      ]
    },
    {
      "cell_type": "code",
      "metadata": {
        "id": "xL7hNi7hLuwH"
      },
      "source": [
        "!pip install -q requests\r\n",
        "\r\n",
        "import requests\r\n",
        "headers = {\"content-type\": \"application/json\"}\r\n",
        "json_response = requests.post('http://localhost:8501/v1/models/weather_model:predict', data=data, headers=headers)\r\n",
        "predictions = json.loads(json_response.text)['predictions']"
      ],
      "execution_count": null,
      "outputs": []
    },
    {
      "cell_type": "code",
      "metadata": {
        "colab": {
          "base_uri": "https://localhost:8080/"
        },
        "id": "w01ph_l5Ozjx",
        "outputId": "daf9b53a-8474-4905-f449-30264d36c91c"
      },
      "source": [
        "print(np.max(predictions[0]))\r\n",
        "print(np.argmax(predictions[0]))"
      ],
      "execution_count": null,
      "outputs": [
        {
          "output_type": "stream",
          "text": [
            "0.997168481\n",
            "5\n"
          ],
          "name": "stdout"
        }
      ]
    },
    {
      "cell_type": "code",
      "metadata": {
        "colab": {
          "base_uri": "https://localhost:8080/"
        },
        "id": "wQXEDtWIL445",
        "outputId": "8d8c469f-59f2-4ea8-8c32-a6aff10eff45"
      },
      "source": [
        "ground_truth = list(train_target_with_dummies.head(0))\r\n",
        "print(ground_truth)"
      ],
      "execution_count": null,
      "outputs": [
        {
          "output_type": "stream",
          "text": [
            "[0, 0, 0, 0, 0, 0, 0, 0, 0, 0, 0, 0, 0, 0, 1, 0, 0, 0, 0]\n"
          ],
          "name": "stdout"
        }
      ]
    },
    {
      "cell_type": "code",
      "metadata": {
        "id": "kn8UGTGvMdGz"
      },
      "source": [
        "predictions = json.loads(json_response.text)"
      ],
      "execution_count": null,
      "outputs": []
    },
    {
      "cell_type": "code",
      "metadata": {
        "id": "zIBDZF22MRuA",
        "colab": {
          "base_uri": "https://localhost:8080/"
        },
        "outputId": "99bf2a23-9060-47bb-b7ed-1794574c5c0b"
      },
      "source": [
        "print(predictions[0])"
      ],
      "execution_count": null,
      "outputs": [
        {
          "output_type": "stream",
          "text": [
            "[9.73920178e-05, 7.51363768e-05, 0.000241446513, 0.000844836584, 0.000830702134, 0.256503284, 5.42976473e-08, 1.28196233e-22, 1.08774575e-16, 0.0534175783, 3.15342045e-13, 2.23812701e-14, 0.0177928898, 0.600110471, 0.069884561, 4.09376355e-07, 1.07743272e-05, 7.13685222e-05, 0.000119068813]\n"
          ],
          "name": "stdout"
        }
      ]
    },
    {
      "cell_type": "code",
      "metadata": {
        "id": "sQGvP7hvhnan"
      },
      "source": [
        ""
      ],
      "execution_count": null,
      "outputs": []
    }
  ]
}